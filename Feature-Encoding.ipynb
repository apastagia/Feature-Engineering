{
 "cells": [
  {
   "cell_type": "markdown",
   "metadata": {},
   "source": [
    "## Types of Encoding"
   ]
  },
  {
   "cell_type": "markdown",
   "metadata": {},
   "source": [
    "1. Nominal Encoding : Do not have any order(No rank)(e.g. gender: male, female)\n",
    "2. Ordinal Encoding : Unique category value is assigned based on rank(e.g. Salary decide: Phd,masters,BE)(degree rank)"
   ]
  },
  {
   "cell_type": "markdown",
   "metadata": {},
   "source": [
    "## Nominal Encoding Types\n",
    "\n",
    "* Variable comprises a finite set of discrete values with no relationship between values.\n",
    "* In this technique always drop_first = True, means out of total columns - 1\n",
    "    (total cols(3) - 1) = 2\n",
    "\n",
    "    1. One Hot Encoding\n",
    "        * Just converting categorical value into numeric value for limited valUES and create dummy columns of that categories. Total_cols = 2\n",
    "        \n",
    "        State ----> state_NY     state_NJ    state_Spain\n",
    "        \n",
    "        N.Y.           1            0             0\n",
    "        \n",
    "        N.J.           0            1             0\n",
    "        Spain          0            0             1\n",
    "        \n",
    "    2. One Hot Encoding with many categorical variables\n",
    "        * Too many categorical variables from that variables it choose only most repeated top 10 categorical values and convert into numeric value. Library Ensemble from sklearn. Create dummy columns. Total_cols = 9 (top 10 cols - 1)\n",
    "        \n",
    "        * Total 50 unique values create top 10 repeated categorical values into numeric, that means generate 9 dummy column.\n",
    "        \n",
    "    3. Mean Encoding\n",
    "        * Mean encoding represents a probability of your target variable, conditional on each value of the feature. In a way, it embodies the target variable in its encoded value.\n"
   ]
  },
  {
   "cell_type": "markdown",
   "metadata": {},
   "source": [
    " ## Ordinal Encoding Types\n",
    " \n",
    " * Variable comprises a finite set of discrete values with a ranked ordering between values.\n",
    " \n",
    "     1. Label Encoding/Integer Encoding\n",
    "         * Just convert categorical values into numeric values no generation of categories column like one hot encoding.\n",
    "     \n",
    "     2. Target Guided Ordinal Encoding"
   ]
  },
  {
   "cell_type": "code",
   "execution_count": null,
   "metadata": {},
   "outputs": [],
   "source": []
  }
 ],
 "metadata": {
  "kernelspec": {
   "display_name": "Python 3",
   "language": "python",
   "name": "python3"
  },
  "language_info": {
   "codemirror_mode": {
    "name": "ipython",
    "version": 3
   },
   "file_extension": ".py",
   "mimetype": "text/x-python",
   "name": "python",
   "nbconvert_exporter": "python",
   "pygments_lexer": "ipython3",
   "version": "3.8.3"
  }
 },
 "nbformat": 4,
 "nbformat_minor": 4
}
